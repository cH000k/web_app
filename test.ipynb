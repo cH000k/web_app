{
 "cells": [
  {
   "cell_type": "code",
   "execution_count": 2,
   "metadata": {},
   "outputs": [
    {
     "name": "stdout",
     "output_type": "stream",
     "text": [
      "Package                   Version\n",
      "------------------------- ---------\n",
      "anime-api                 1.0.2\n",
      "asttokens                 2.2.1\n",
      "attrs                     23.2.0\n",
      "backcall                  0.2.0\n",
      "blinker                   1.7.0\n",
      "certifi                   2024.2.2\n",
      "charset-normalizer        3.3.2\n",
      "click                     8.1.7\n",
      "colorama                  0.4.6\n",
      "comm                      0.1.3\n",
      "dash                      2.16.1\n",
      "dash-bootstrap-components 1.6.0\n",
      "dash-core-components      2.0.0\n",
      "dash-html-components      2.0.0\n",
      "dash-table                5.0.0\n",
      "debugpy                   1.6.7\n",
      "decorator                 5.1.1\n",
      "Deprecated                1.2.14\n",
      "executing                 1.2.0\n",
      "fastjsonschema            2.19.1\n",
      "Flask                     3.0.3\n",
      "greenlet                  3.0.3\n",
      "idna                      3.6\n",
      "importlib_metadata        7.1.0\n",
      "ipykernel                 6.24.0\n",
      "ipython                   8.14.0\n",
      "itsdangerous              2.1.2\n",
      "jaconv                    0.3.4\n",
      "jedi                      0.18.2\n",
      "Jinja2                    3.1.3\n",
      "jsonschema                4.21.1\n",
      "jsonschema-specifications 2023.12.1\n",
      "jupyter_client            8.3.0\n",
      "jupyter_core              5.3.1\n",
      "MarkupSafe                2.1.5\n",
      "matplotlib-inline         0.1.6\n",
      "mypy                      1.9.0\n",
      "mypy-extensions           1.0.0\n",
      "mysql                     0.0.3\n",
      "mysql-connector           2.2.9\n",
      "mysql-connector-python    8.3.0\n",
      "mysqlclient               2.2.4\n",
      "nbformat                  5.10.4\n",
      "nest-asyncio              1.5.6\n",
      "numpy                     1.26.4\n",
      "packaging                 23.1\n",
      "pandas                    2.2.1\n",
      "parso                     0.8.3\n",
      "pickleshare               0.7.5\n",
      "pip                       23.1.2\n",
      "platformdirs              3.8.1\n",
      "plotly                    5.20.0\n",
      "prompt-toolkit            3.0.39\n",
      "psutil                    5.9.5\n",
      "pure-eval                 0.2.2\n",
      "Pygments                  2.15.1\n",
      "pykakasi                  2.2.1\n",
      "PyMySQL                   1.1.0\n",
      "python-dateutil           2.8.2\n",
      "pytz                      2024.1\n",
      "pywin32                   306\n",
      "pyzmq                     25.1.0\n",
      "referencing               0.34.0\n",
      "requests                  2.31.0\n",
      "retrying                  1.3.4\n",
      "rpds-py                   0.18.0\n",
      "setuptools                65.5.0\n",
      "six                       1.16.0\n",
      "SQLAlchemy                2.0.29\n",
      "stack-data                0.6.2\n",
      "tenacity                  8.2.3\n",
      "tornado                   6.3.2\n",
      "traitlets                 5.9.0\n",
      "typing_extensions         4.10.0\n",
      "tzdata                    2024.1\n",
      "urllib3                   2.2.1\n",
      "wcwidth                   0.2.6\n",
      "Werkzeug                  3.0.2\n",
      "wrapt                     1.16.0\n",
      "zipp                      3.18.1\n",
      "Note: you may need to restart the kernel to use updated packages.\n"
     ]
    },
    {
     "name": "stderr",
     "output_type": "stream",
     "text": [
      "\n",
      "[notice] A new release of pip is available: 23.1.2 -> 24.2\n",
      "[notice] To update, run: python.exe -m pip install --upgrade pip\n"
     ]
    }
   ],
   "source": [
    "pip list"
   ]
  }
 ],
 "metadata": {
  "kernelspec": {
   "display_name": "Python 3",
   "language": "python",
   "name": "python3"
  },
  "language_info": {
   "codemirror_mode": {
    "name": "ipython",
    "version": 3
   },
   "file_extension": ".py",
   "mimetype": "text/x-python",
   "name": "python",
   "nbconvert_exporter": "python",
   "pygments_lexer": "ipython3",
   "version": "3.11.4"
  }
 },
 "nbformat": 4,
 "nbformat_minor": 2
}
